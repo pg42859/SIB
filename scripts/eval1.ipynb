{
 "cells": [
  {
   "cell_type": "markdown",
   "id": "b81c0500",
   "metadata": {},
   "source": [
    "# Sistemas Inteligentes para Bioinformática"
   ]
  },
  {
   "cell_type": "markdown",
   "id": "0332d971",
   "metadata": {},
   "source": [
    "Exemplos de validação de código. Deverá corrigir os imports e diretórios de acordo com a sua implementação."
   ]
  },
  {
   "cell_type": "code",
   "execution_count": 3,
   "id": "d7a5bba2",
   "metadata": {},
   "outputs": [
    {
     "name": "stdout",
     "output_type": "stream",
     "text": [
      "The autoreload extension is already loaded. To reload it, use:\n",
      "  %reload_ext autoreload\n"
     ]
    }
   ],
   "source": [
    "%load_ext autoreload\n",
    "%autoreload 2\n",
    "from src.si.data import Dataset, summary\n",
    "import os"
   ]
  },
  {
   "cell_type": "code",
   "execution_count": 5,
   "id": "4df58c0c",
   "metadata": {},
   "outputs": [],
   "source": [
    "DIR = os.path.dirname(os.path.realpath('.'))\n",
    "filename = os.path.join(DIR, 'datasets/breast-bin.data')"
   ]
  },
  {
   "cell_type": "markdown",
   "id": "410820e3",
   "metadata": {},
   "source": [
    "## Labeled dataset"
   ]
  },
  {
   "cell_type": "code",
   "execution_count": 7,
   "id": "bf1b9bb6",
   "metadata": {},
   "outputs": [],
   "source": [
    "dataset = Dataset.from_data(filename, labeled=True)"
   ]
  },
  {
   "cell_type": "code",
   "execution_count": 8,
   "id": "09fb7585",
   "metadata": {},
   "outputs": [
    {
     "data": {
      "text/plain": "array([[8., 4., 4., 1., 2., 9., 3., 3., 1.],\n       [5., 1., 1., 3., 2., 1., 1., 1., 1.],\n       [2., 1., 1., 1., 3., 1., 2., 1., 1.],\n       [2., 1., 1., 1., 2., 1., 3., 1., 1.],\n       [9., 5., 8., 1., 2., 3., 2., 1., 5.]])"
     },
     "execution_count": 8,
     "metadata": {},
     "output_type": "execute_result"
    }
   ],
   "source": [
    "# primeiras 5 linhas\n",
    "dataset.X[:5, :] "
   ]
  },
  {
   "cell_type": "code",
   "execution_count": 10,
   "id": "593bebab",
   "metadata": {},
   "outputs": [
    {
     "data": {
      "text/plain": "array([1., 0., 0., 0., 1.])"
     },
     "execution_count": 10,
     "metadata": {},
     "output_type": "execute_result"
    }
   ],
   "source": [
    "# primeiras 5 labels\n",
    "dataset.Y[:5]"
   ]
  },
  {
   "cell_type": "code",
   "execution_count": 11,
   "id": "b3420783",
   "metadata": {},
   "outputs": [
    {
     "name": "stdout",
     "output_type": "stream",
     "text": [
      "Has label: True\n",
      "Number of features: 9\n",
      "Number of classes: 2\n"
     ]
    },
    {
     "data": {
      "text/plain": "              A          B          C          D          E          F  \\\nmean   4.417740   3.134478   3.207439   2.806867   3.216023   3.486409   \nvar    7.917053   9.298082   8.819630   8.141527   4.896110  13.099601   \nmin    1.000000   1.000000   1.000000   1.000000   1.000000   1.000000   \nmax   10.000000  10.000000  10.000000  10.000000  10.000000  10.000000   \n\n              G          H          I         Y  \nmean   3.437768   2.866953   1.589413  0.344778  \nvar    5.937114   9.311340   2.937284  0.225906  \nmin    1.000000   1.000000   1.000000  0.000000  \nmax   10.000000  10.000000  10.000000  1.000000  ",
      "text/html": "<div>\n<style scoped>\n    .dataframe tbody tr th:only-of-type {\n        vertical-align: middle;\n    }\n\n    .dataframe tbody tr th {\n        vertical-align: top;\n    }\n\n    .dataframe thead th {\n        text-align: right;\n    }\n</style>\n<table border=\"1\" class=\"dataframe\">\n  <thead>\n    <tr style=\"text-align: right;\">\n      <th></th>\n      <th>A</th>\n      <th>B</th>\n      <th>C</th>\n      <th>D</th>\n      <th>E</th>\n      <th>F</th>\n      <th>G</th>\n      <th>H</th>\n      <th>I</th>\n      <th>Y</th>\n    </tr>\n  </thead>\n  <tbody>\n    <tr>\n      <th>mean</th>\n      <td>4.417740</td>\n      <td>3.134478</td>\n      <td>3.207439</td>\n      <td>2.806867</td>\n      <td>3.216023</td>\n      <td>3.486409</td>\n      <td>3.437768</td>\n      <td>2.866953</td>\n      <td>1.589413</td>\n      <td>0.344778</td>\n    </tr>\n    <tr>\n      <th>var</th>\n      <td>7.917053</td>\n      <td>9.298082</td>\n      <td>8.819630</td>\n      <td>8.141527</td>\n      <td>4.896110</td>\n      <td>13.099601</td>\n      <td>5.937114</td>\n      <td>9.311340</td>\n      <td>2.937284</td>\n      <td>0.225906</td>\n    </tr>\n    <tr>\n      <th>min</th>\n      <td>1.000000</td>\n      <td>1.000000</td>\n      <td>1.000000</td>\n      <td>1.000000</td>\n      <td>1.000000</td>\n      <td>1.000000</td>\n      <td>1.000000</td>\n      <td>1.000000</td>\n      <td>1.000000</td>\n      <td>0.000000</td>\n    </tr>\n    <tr>\n      <th>max</th>\n      <td>10.000000</td>\n      <td>10.000000</td>\n      <td>10.000000</td>\n      <td>10.000000</td>\n      <td>10.000000</td>\n      <td>10.000000</td>\n      <td>10.000000</td>\n      <td>10.000000</td>\n      <td>10.000000</td>\n      <td>1.000000</td>\n    </tr>\n  </tbody>\n</table>\n</div>"
     },
     "execution_count": 11,
     "metadata": {},
     "output_type": "execute_result"
    }
   ],
   "source": [
    "print(\"Has label:\", dataset.hasLabel())\n",
    "print(\"Number of features:\", dataset.getNumFeatures())\n",
    "print(\"Number of classes:\", dataset.getNumClasses())\n",
    "summary(dataset)"
   ]
  },
  {
   "cell_type": "code",
   "execution_count": 12,
   "id": "a3035f51",
   "metadata": {},
   "outputs": [
    {
     "data": {
      "text/plain": "       A    B    C    D    E     F    G    H    I    Y\n0    8.0  4.0  4.0  1.0  2.0   9.0  3.0  3.0  1.0  1.0\n1    5.0  1.0  1.0  3.0  2.0   1.0  1.0  1.0  1.0  0.0\n2    2.0  1.0  1.0  1.0  3.0   1.0  2.0  1.0  1.0  0.0\n3    2.0  1.0  1.0  1.0  2.0   1.0  3.0  1.0  1.0  0.0\n4    9.0  5.0  8.0  1.0  2.0   3.0  2.0  1.0  5.0  1.0\n..   ...  ...  ...  ...  ...   ...  ...  ...  ...  ...\n694  1.0  1.0  1.0  1.0  4.0   3.0  1.0  1.0  1.0  0.0\n695  5.0  3.0  1.0  2.0  2.0   1.0  2.0  1.0  1.0  0.0\n696  5.0  2.0  2.0  2.0  2.0   1.0  1.0  1.0  2.0  0.0\n697  2.0  3.0  2.0  2.0  2.0   2.0  3.0  1.0  1.0  0.0\n698  7.0  6.0  6.0  3.0  2.0  10.0  7.0  1.0  1.0  1.0\n\n[699 rows x 10 columns]",
      "text/html": "<div>\n<style scoped>\n    .dataframe tbody tr th:only-of-type {\n        vertical-align: middle;\n    }\n\n    .dataframe tbody tr th {\n        vertical-align: top;\n    }\n\n    .dataframe thead th {\n        text-align: right;\n    }\n</style>\n<table border=\"1\" class=\"dataframe\">\n  <thead>\n    <tr style=\"text-align: right;\">\n      <th></th>\n      <th>A</th>\n      <th>B</th>\n      <th>C</th>\n      <th>D</th>\n      <th>E</th>\n      <th>F</th>\n      <th>G</th>\n      <th>H</th>\n      <th>I</th>\n      <th>Y</th>\n    </tr>\n  </thead>\n  <tbody>\n    <tr>\n      <th>0</th>\n      <td>8.0</td>\n      <td>4.0</td>\n      <td>4.0</td>\n      <td>1.0</td>\n      <td>2.0</td>\n      <td>9.0</td>\n      <td>3.0</td>\n      <td>3.0</td>\n      <td>1.0</td>\n      <td>1.0</td>\n    </tr>\n    <tr>\n      <th>1</th>\n      <td>5.0</td>\n      <td>1.0</td>\n      <td>1.0</td>\n      <td>3.0</td>\n      <td>2.0</td>\n      <td>1.0</td>\n      <td>1.0</td>\n      <td>1.0</td>\n      <td>1.0</td>\n      <td>0.0</td>\n    </tr>\n    <tr>\n      <th>2</th>\n      <td>2.0</td>\n      <td>1.0</td>\n      <td>1.0</td>\n      <td>1.0</td>\n      <td>3.0</td>\n      <td>1.0</td>\n      <td>2.0</td>\n      <td>1.0</td>\n      <td>1.0</td>\n      <td>0.0</td>\n    </tr>\n    <tr>\n      <th>3</th>\n      <td>2.0</td>\n      <td>1.0</td>\n      <td>1.0</td>\n      <td>1.0</td>\n      <td>2.0</td>\n      <td>1.0</td>\n      <td>3.0</td>\n      <td>1.0</td>\n      <td>1.0</td>\n      <td>0.0</td>\n    </tr>\n    <tr>\n      <th>4</th>\n      <td>9.0</td>\n      <td>5.0</td>\n      <td>8.0</td>\n      <td>1.0</td>\n      <td>2.0</td>\n      <td>3.0</td>\n      <td>2.0</td>\n      <td>1.0</td>\n      <td>5.0</td>\n      <td>1.0</td>\n    </tr>\n    <tr>\n      <th>...</th>\n      <td>...</td>\n      <td>...</td>\n      <td>...</td>\n      <td>...</td>\n      <td>...</td>\n      <td>...</td>\n      <td>...</td>\n      <td>...</td>\n      <td>...</td>\n      <td>...</td>\n    </tr>\n    <tr>\n      <th>694</th>\n      <td>1.0</td>\n      <td>1.0</td>\n      <td>1.0</td>\n      <td>1.0</td>\n      <td>4.0</td>\n      <td>3.0</td>\n      <td>1.0</td>\n      <td>1.0</td>\n      <td>1.0</td>\n      <td>0.0</td>\n    </tr>\n    <tr>\n      <th>695</th>\n      <td>5.0</td>\n      <td>3.0</td>\n      <td>1.0</td>\n      <td>2.0</td>\n      <td>2.0</td>\n      <td>1.0</td>\n      <td>2.0</td>\n      <td>1.0</td>\n      <td>1.0</td>\n      <td>0.0</td>\n    </tr>\n    <tr>\n      <th>696</th>\n      <td>5.0</td>\n      <td>2.0</td>\n      <td>2.0</td>\n      <td>2.0</td>\n      <td>2.0</td>\n      <td>1.0</td>\n      <td>1.0</td>\n      <td>1.0</td>\n      <td>2.0</td>\n      <td>0.0</td>\n    </tr>\n    <tr>\n      <th>697</th>\n      <td>2.0</td>\n      <td>3.0</td>\n      <td>2.0</td>\n      <td>2.0</td>\n      <td>2.0</td>\n      <td>2.0</td>\n      <td>3.0</td>\n      <td>1.0</td>\n      <td>1.0</td>\n      <td>0.0</td>\n    </tr>\n    <tr>\n      <th>698</th>\n      <td>7.0</td>\n      <td>6.0</td>\n      <td>6.0</td>\n      <td>3.0</td>\n      <td>2.0</td>\n      <td>10.0</td>\n      <td>7.0</td>\n      <td>1.0</td>\n      <td>1.0</td>\n      <td>1.0</td>\n    </tr>\n  </tbody>\n</table>\n<p>699 rows × 10 columns</p>\n</div>"
     },
     "execution_count": 12,
     "metadata": {},
     "output_type": "execute_result"
    }
   ],
   "source": [
    "dataset.toDataframe()"
   ]
  },
  {
   "cell_type": "markdown",
   "id": "687d166e",
   "metadata": {},
   "source": [
    "## Standard Scaler"
   ]
  },
  {
   "cell_type": "code",
   "execution_count": 13,
   "id": "57b53dc3",
   "metadata": {},
   "outputs": [
    {
     "data": {
      "text/plain": "                 A             B             C             D             E  \\\nmean -3.811925e-17 -1.219816e-16 -6.607336e-17  9.148619e-17  6.607336e-17   \nvar   1.000000e+00  1.000000e+00  1.000000e+00  1.000000e+00  1.000000e+00   \nmin  -1.214667e+00 -6.999951e-01 -7.432990e-01 -6.332472e-01 -1.001495e+00   \nmax   1.983939e+00  2.251526e+00  2.287222e+00  2.520955e+00  3.065906e+00   \n\n                 F             G             H             I         Y  \nmean -5.082566e-17  5.082566e-18 -8.386234e-17 -5.717887e-17  0.344778  \nvar   1.000000e+00  1.000000e+00  1.000000e+00  1.000000e+00  0.225906  \nmin  -6.869792e-01 -1.000471e+00 -6.118250e-01 -3.439118e-01  0.000000  \nmax   1.799664e+00  2.693171e+00  2.337594e+00  4.907421e+00  1.000000  ",
      "text/html": "<div>\n<style scoped>\n    .dataframe tbody tr th:only-of-type {\n        vertical-align: middle;\n    }\n\n    .dataframe tbody tr th {\n        vertical-align: top;\n    }\n\n    .dataframe thead th {\n        text-align: right;\n    }\n</style>\n<table border=\"1\" class=\"dataframe\">\n  <thead>\n    <tr style=\"text-align: right;\">\n      <th></th>\n      <th>A</th>\n      <th>B</th>\n      <th>C</th>\n      <th>D</th>\n      <th>E</th>\n      <th>F</th>\n      <th>G</th>\n      <th>H</th>\n      <th>I</th>\n      <th>Y</th>\n    </tr>\n  </thead>\n  <tbody>\n    <tr>\n      <th>mean</th>\n      <td>-3.811925e-17</td>\n      <td>-1.219816e-16</td>\n      <td>-6.607336e-17</td>\n      <td>9.148619e-17</td>\n      <td>6.607336e-17</td>\n      <td>-5.082566e-17</td>\n      <td>5.082566e-18</td>\n      <td>-8.386234e-17</td>\n      <td>-5.717887e-17</td>\n      <td>0.344778</td>\n    </tr>\n    <tr>\n      <th>var</th>\n      <td>1.000000e+00</td>\n      <td>1.000000e+00</td>\n      <td>1.000000e+00</td>\n      <td>1.000000e+00</td>\n      <td>1.000000e+00</td>\n      <td>1.000000e+00</td>\n      <td>1.000000e+00</td>\n      <td>1.000000e+00</td>\n      <td>1.000000e+00</td>\n      <td>0.225906</td>\n    </tr>\n    <tr>\n      <th>min</th>\n      <td>-1.214667e+00</td>\n      <td>-6.999951e-01</td>\n      <td>-7.432990e-01</td>\n      <td>-6.332472e-01</td>\n      <td>-1.001495e+00</td>\n      <td>-6.869792e-01</td>\n      <td>-1.000471e+00</td>\n      <td>-6.118250e-01</td>\n      <td>-3.439118e-01</td>\n      <td>0.000000</td>\n    </tr>\n    <tr>\n      <th>max</th>\n      <td>1.983939e+00</td>\n      <td>2.251526e+00</td>\n      <td>2.287222e+00</td>\n      <td>2.520955e+00</td>\n      <td>3.065906e+00</td>\n      <td>1.799664e+00</td>\n      <td>2.693171e+00</td>\n      <td>2.337594e+00</td>\n      <td>4.907421e+00</td>\n      <td>1.000000</td>\n    </tr>\n  </tbody>\n</table>\n</div>"
     },
     "execution_count": 13,
     "metadata": {},
     "output_type": "execute_result"
    }
   ],
   "source": [
    "from src.si.util import StandardScaler\n",
    "sc = StandardScaler()\n",
    "ds2 = sc.fit_transform(dataset)\n",
    "summary(ds2)"
   ]
  },
  {
   "cell_type": "markdown",
   "id": "b181d714",
   "metadata": {},
   "source": [
    "# Feature Selection"
   ]
  },
  {
   "cell_type": "code",
   "execution_count": 15,
   "id": "fe5a0ddb",
   "metadata": {},
   "outputs": [],
   "source": [
    "import importlib\n",
    "from src.si.data.feature_selection import f_regress, SelectKBest, VarianceThreshold"
   ]
  },
  {
   "cell_type": "markdown",
   "id": "e2283f25",
   "metadata": {},
   "source": [
    "## Variance Threshold"
   ]
  },
  {
   "cell_type": "code",
   "execution_count": 16,
   "id": "077b82dd",
   "metadata": {},
   "outputs": [
    {
     "data": {
      "text/plain": "              B          C          D          F          H         Y\nmean   3.134478   3.207439   2.806867   3.486409   2.866953  0.344778\nvar    9.298082   8.819630   8.141527  13.099601   9.311340  0.225906\nmin    1.000000   1.000000   1.000000   1.000000   1.000000  0.000000\nmax   10.000000  10.000000  10.000000  10.000000  10.000000  1.000000",
      "text/html": "<div>\n<style scoped>\n    .dataframe tbody tr th:only-of-type {\n        vertical-align: middle;\n    }\n\n    .dataframe tbody tr th {\n        vertical-align: top;\n    }\n\n    .dataframe thead th {\n        text-align: right;\n    }\n</style>\n<table border=\"1\" class=\"dataframe\">\n  <thead>\n    <tr style=\"text-align: right;\">\n      <th></th>\n      <th>B</th>\n      <th>C</th>\n      <th>D</th>\n      <th>F</th>\n      <th>H</th>\n      <th>Y</th>\n    </tr>\n  </thead>\n  <tbody>\n    <tr>\n      <th>mean</th>\n      <td>3.134478</td>\n      <td>3.207439</td>\n      <td>2.806867</td>\n      <td>3.486409</td>\n      <td>2.866953</td>\n      <td>0.344778</td>\n    </tr>\n    <tr>\n      <th>var</th>\n      <td>9.298082</td>\n      <td>8.819630</td>\n      <td>8.141527</td>\n      <td>13.099601</td>\n      <td>9.311340</td>\n      <td>0.225906</td>\n    </tr>\n    <tr>\n      <th>min</th>\n      <td>1.000000</td>\n      <td>1.000000</td>\n      <td>1.000000</td>\n      <td>1.000000</td>\n      <td>1.000000</td>\n      <td>0.000000</td>\n    </tr>\n    <tr>\n      <th>max</th>\n      <td>10.000000</td>\n      <td>10.000000</td>\n      <td>10.000000</td>\n      <td>10.000000</td>\n      <td>10.000000</td>\n      <td>1.000000</td>\n    </tr>\n  </tbody>\n</table>\n</div>"
     },
     "execution_count": 16,
     "metadata": {},
     "output_type": "execute_result"
    }
   ],
   "source": [
    "vt = VarianceThreshold(8)\n",
    "ds2 = vt.fit_transform(dataset)\n",
    "summary(ds2)"
   ]
  },
  {
   "cell_type": "markdown",
   "id": "af2a1979",
   "metadata": {},
   "source": [
    "## SelectKBest"
   ]
  },
  {
   "cell_type": "code",
   "execution_count": 18,
   "id": "3d5a323c",
   "metadata": {},
   "outputs": [
    {
     "data": {
      "text/plain": "              A          G          B          C          F         Y\nmean   4.417740   3.437768   3.134478   3.207439   3.486409  0.344778\nvar    7.917053   5.937114   9.298082   8.819630  13.099601  0.225906\nmin    1.000000   1.000000   1.000000   1.000000   1.000000  0.000000\nmax   10.000000  10.000000  10.000000  10.000000  10.000000  1.000000",
      "text/html": "<div>\n<style scoped>\n    .dataframe tbody tr th:only-of-type {\n        vertical-align: middle;\n    }\n\n    .dataframe tbody tr th {\n        vertical-align: top;\n    }\n\n    .dataframe thead th {\n        text-align: right;\n    }\n</style>\n<table border=\"1\" class=\"dataframe\">\n  <thead>\n    <tr style=\"text-align: right;\">\n      <th></th>\n      <th>A</th>\n      <th>G</th>\n      <th>B</th>\n      <th>C</th>\n      <th>F</th>\n      <th>Y</th>\n    </tr>\n  </thead>\n  <tbody>\n    <tr>\n      <th>mean</th>\n      <td>4.417740</td>\n      <td>3.437768</td>\n      <td>3.134478</td>\n      <td>3.207439</td>\n      <td>3.486409</td>\n      <td>0.344778</td>\n    </tr>\n    <tr>\n      <th>var</th>\n      <td>7.917053</td>\n      <td>5.937114</td>\n      <td>9.298082</td>\n      <td>8.819630</td>\n      <td>13.099601</td>\n      <td>0.225906</td>\n    </tr>\n    <tr>\n      <th>min</th>\n      <td>1.000000</td>\n      <td>1.000000</td>\n      <td>1.000000</td>\n      <td>1.000000</td>\n      <td>1.000000</td>\n      <td>0.000000</td>\n    </tr>\n    <tr>\n      <th>max</th>\n      <td>10.000000</td>\n      <td>10.000000</td>\n      <td>10.000000</td>\n      <td>10.000000</td>\n      <td>10.000000</td>\n      <td>1.000000</td>\n    </tr>\n  </tbody>\n</table>\n</div>"
     },
     "execution_count": 18,
     "metadata": {},
     "output_type": "execute_result"
    }
   ],
   "source": [
    "# SelectKBest for classification\n",
    "skb = SelectKBest(5)\n",
    "ds3 = skb.fit_transform(dataset)\n",
    "summary(ds3)"
   ]
  },
  {
   "cell_type": "markdown",
   "id": "d32dff4c",
   "metadata": {},
   "source": [
    "# Clustering"
   ]
  },
  {
   "cell_type": "code",
   "execution_count": 19,
   "id": "a9562ff0",
   "metadata": {},
   "outputs": [],
   "source": [
    "from src.si.unsupervised import KMeans\n",
    "import pandas as pd\n",
    "import matplotlib.pyplot as plt"
   ]
  },
  {
   "cell_type": "code",
   "execution_count": 21,
   "id": "20a110be",
   "metadata": {},
   "outputs": [],
   "source": [
    "# o dataset iris nao estava inicialmente no github\n",
    "filename = os.path.join(DIR, 'datasets/iris.data')\n",
    "df = pd.read_csv(filename)\n",
    "iris = Dataset.from_dataframe(df,ylabel=\"class\")"
   ]
  },
  {
   "cell_type": "code",
   "execution_count": 22,
   "id": "a8538bcd",
   "metadata": {},
   "outputs": [
    {
     "data": {
      "text/plain": "<Figure size 432x288 with 1 Axes>",
      "image/png": "[encoded data removed]"
     },
     "metadata": {
      "needs_background": "light"
     },
     "output_type": "display_data"
    }
   ],
   "source": [
    "# indice das features para o plot\n",
    "c1 = 0\n",
    "c2 = 1\n",
    "# plot\n",
    "plt.scatter(iris.X[:,c1], iris.X[:,c2])\n",
    "plt.xlabel(iris._xnames[c1])\n",
    "plt.ylabel(iris._xnames[c2])\n",
    "plt.show()"
   ]
  },
  {
   "cell_type": "code",
   "execution_count": 23,
   "id": "3a83563a",
   "metadata": {},
   "outputs": [],
   "source": [
    "kmeans = KMeans(3)\n",
    "cent, clust = kmeans.fit_transform(iris)"
   ]
  },
  {
   "cell_type": "code",
   "execution_count": 24,
   "metadata": {
    "collapsed": false,
    "pycharm": {
     "name": "#%%\n"
    }
   },
   "outputs": [
    {
     "data": {
      "text/plain": "<Figure size 432x288 with 1 Axes>",
      "image/png": "[encoded data removed]"
     },
     "metadata": {
      "needs_background": "light"
     },
     "output_type": "display_data"
    }
   ],
   "source": [
    "plt.scatter(iris.X[:,c1], iris.X[:,c2],c=clust)\n",
    "plt.scatter(cent[:,c1],cent[:,c2], s = 100, c = 'black',marker='x')\n",
    "plt.xlabel(iris._xnames[c1])\n",
    "plt.ylabel(iris._xnames[c2])\n",
    "plt.show()"
   ]
  },
  {
   "cell_type": "code",
   "execution_count": 26,
   "id": "4a9cc736",
   "metadata": {},
   "outputs": [
    {
     "data": {
      "text/plain": "<Figure size 432x288 with 1 Axes>",
      "image/png": "[encoded data removed]"
     },
     "metadata": {
      "needs_background": "light"
     },
     "output_type": "display_data"
    }
   ],
   "source": [
    "plt.scatter(iris.X[:,c1], iris.X[:,c2],c=clust)\n",
    "plt.scatter(cent[:,c1],cent[:,c2], s = 100, c = 'black',marker='x')\n",
    "plt.xlabel(iris._xnames[c1])\n",
    "plt.ylabel(iris._xnames[c2])\n",
    "plt.show()\n",
    "# podem obter clusterings diferentes já que estes dependem da escolha dos centroids iniciais"
   ]
  },
  {
   "cell_type": "markdown",
   "id": "2d9f986e",
   "metadata": {},
   "source": [
    "# PCA"
   ]
  },
  {
   "cell_type": "code",
   "execution_count": 28,
   "id": "36ccdbee",
   "metadata": {},
   "outputs": [],
   "source": [
    "from src.si.unsupervised import PCA\n",
    "pca = PCA(2, using='svd')"
   ]
  },
  {
   "cell_type": "code",
   "execution_count": 30,
   "id": "5973a1a1",
   "metadata": {},
   "outputs": [
    {
     "name": "stdout",
     "output_type": "stream",
     "text": [
      "[[-9.00681170e-01 -1.14301691e+00 -1.38535265e+00 -1.50652052e+00\n",
      "  -1.02184904e+00 -5.37177559e-01 -1.50652052e+00 -1.02184904e+00\n",
      "  -1.74885626e+00 -1.14301691e+00 -5.37177559e-01 -1.26418478e+00\n",
      "  -1.26418478e+00 -1.87002413e+00 -5.25060772e-02 -1.73673948e-01\n",
      "  -5.37177559e-01 -9.00681170e-01 -1.73673948e-01 -9.00681170e-01\n",
      "  -5.37177559e-01 -9.00681170e-01 -1.50652052e+00 -9.00681170e-01\n",
      "  -1.26418478e+00 -1.02184904e+00 -1.02184904e+00 -7.79513300e-01\n",
      "  -7.79513300e-01 -1.38535265e+00 -1.26418478e+00 -5.37177559e-01\n",
      "  -7.79513300e-01 -4.16009689e-01 -1.14301691e+00 -1.02184904e+00\n",
      "  -4.16009689e-01 -1.14301691e+00 -1.74885626e+00 -9.00681170e-01\n",
      "  -1.02184904e+00 -1.62768839e+00 -1.74885626e+00 -1.02184904e+00\n",
      "  -9.00681170e-01 -1.26418478e+00 -9.00681170e-01 -1.50652052e+00\n",
      "  -6.58345429e-01 -1.02184904e+00  1.40150837e+00  6.74501145e-01\n",
      "   1.28034050e+00 -4.16009689e-01  7.95669016e-01 -1.73673948e-01\n",
      "   5.53333275e-01 -1.14301691e+00  9.16836886e-01 -7.79513300e-01\n",
      "  -1.02184904e+00  6.86617933e-02  1.89829664e-01  3.10997534e-01\n",
      "  -2.94841818e-01  1.03800476e+00 -2.94841818e-01 -5.25060772e-02\n",
      "   4.32165405e-01 -2.94841818e-01  6.86617933e-02  3.10997534e-01\n",
      "   5.53333275e-01  3.10997534e-01  6.74501145e-01  9.16836886e-01\n",
      "   1.15917263e+00  1.03800476e+00  1.89829664e-01 -1.73673948e-01\n",
      "  -4.16009689e-01 -4.16009689e-01 -5.25060772e-02  1.89829664e-01\n",
      "  -5.37177559e-01  1.89829664e-01  1.03800476e+00  5.53333275e-01\n",
      "  -2.94841818e-01 -4.16009689e-01 -4.16009689e-01  3.10997534e-01\n",
      "  -5.25060772e-02 -1.02184904e+00 -2.94841818e-01 -1.73673948e-01\n",
      "  -1.73673948e-01  4.32165405e-01 -9.00681170e-01 -1.73673948e-01\n",
      "   5.53333275e-01 -5.25060772e-02  1.52267624e+00  5.53333275e-01\n",
      "   7.95669016e-01  2.12851559e+00 -1.14301691e+00  1.76501198e+00\n",
      "   1.03800476e+00  1.64384411e+00  7.95669016e-01  6.74501145e-01\n",
      "   1.15917263e+00 -1.73673948e-01 -5.25060772e-02  6.74501145e-01\n",
      "   7.95669016e-01  2.24968346e+00  2.24968346e+00  1.89829664e-01\n",
      "   1.28034050e+00 -2.94841818e-01  2.24968346e+00  5.53333275e-01\n",
      "   1.03800476e+00  1.64384411e+00  4.32165405e-01  3.10997534e-01\n",
      "   6.74501145e-01  1.64384411e+00  1.88617985e+00  2.49201920e+00\n",
      "   6.74501145e-01  5.53333275e-01  3.10997534e-01  2.24968346e+00\n",
      "   5.53333275e-01  6.74501145e-01  1.89829664e-01  1.28034050e+00\n",
      "   1.03800476e+00  1.28034050e+00 -5.25060772e-02  1.15917263e+00\n",
      "   1.03800476e+00  1.03800476e+00  5.53333275e-01  7.95669016e-01\n",
      "   4.32165405e-01  6.86617933e-02]\n",
      " [ 1.03205722e+00 -1.24957601e-01  3.37848329e-01  1.06445364e-01\n",
      "   1.26346019e+00  1.95766909e+00  8.00654259e-01  8.00654259e-01\n",
      "  -3.56360566e-01  1.06445364e-01  1.49486315e+00  8.00654259e-01\n",
      "  -1.24957601e-01 -1.24957601e-01  2.18907205e+00  3.11468391e+00\n",
      "   1.95766909e+00  1.03205722e+00  1.72626612e+00  1.72626612e+00\n",
      "   8.00654259e-01  1.49486315e+00  1.26346019e+00  5.69251294e-01\n",
      "   8.00654259e-01 -1.24957601e-01  8.00654259e-01  1.03205722e+00\n",
      "   8.00654259e-01  3.37848329e-01  1.06445364e-01  8.00654259e-01\n",
      "   2.42047502e+00  2.65187798e+00  1.06445364e-01  3.37848329e-01\n",
      "   1.03205722e+00  1.06445364e-01 -1.24957601e-01  8.00654259e-01\n",
      "   1.03205722e+00 -1.74477836e+00  3.37848329e-01  1.03205722e+00\n",
      "   1.72626612e+00 -1.24957601e-01  1.72626612e+00  3.37848329e-01\n",
      "   1.49486315e+00  5.69251294e-01  3.37848329e-01  3.37848329e-01\n",
      "   1.06445364e-01 -1.74477836e+00 -5.87763531e-01 -5.87763531e-01\n",
      "   5.69251294e-01 -1.51337539e+00 -3.56360566e-01 -8.19166497e-01\n",
      "  -2.43898725e+00 -1.24957601e-01 -1.97618132e+00 -3.56360566e-01\n",
      "  -3.56360566e-01  1.06445364e-01 -1.24957601e-01 -8.19166497e-01\n",
      "  -1.97618132e+00 -1.28197243e+00  3.37848329e-01 -5.87763531e-01\n",
      "  -1.28197243e+00 -5.87763531e-01 -3.56360566e-01 -1.24957601e-01\n",
      "  -5.87763531e-01 -1.24957601e-01 -3.56360566e-01 -1.05056946e+00\n",
      "  -1.51337539e+00 -1.51337539e+00 -8.19166497e-01 -8.19166497e-01\n",
      "  -1.24957601e-01  8.00654259e-01  1.06445364e-01 -1.74477836e+00\n",
      "  -1.24957601e-01 -1.28197243e+00 -1.05056946e+00 -1.24957601e-01\n",
      "  -1.05056946e+00 -1.74477836e+00 -8.19166497e-01 -1.24957601e-01\n",
      "  -3.56360566e-01 -3.56360566e-01 -1.28197243e+00 -5.87763531e-01\n",
      "   5.69251294e-01 -8.19166497e-01 -1.24957601e-01 -3.56360566e-01\n",
      "  -1.24957601e-01 -1.24957601e-01 -1.28197243e+00 -3.56360566e-01\n",
      "  -1.28197243e+00  1.26346019e+00  3.37848329e-01 -8.19166497e-01\n",
      "  -1.24957601e-01 -1.28197243e+00 -5.87763531e-01  3.37848329e-01\n",
      "  -1.24957601e-01  1.72626612e+00 -1.05056946e+00 -1.97618132e+00\n",
      "   3.37848329e-01 -5.87763531e-01 -5.87763531e-01 -8.19166497e-01\n",
      "   5.69251294e-01  3.37848329e-01 -5.87763531e-01 -1.24957601e-01\n",
      "  -5.87763531e-01 -1.24957601e-01 -5.87763531e-01  1.72626612e+00\n",
      "  -5.87763531e-01 -5.87763531e-01 -1.05056946e+00 -1.24957601e-01\n",
      "   8.00654259e-01  1.06445364e-01 -1.24957601e-01  1.06445364e-01\n",
      "   1.06445364e-01  1.06445364e-01 -8.19166497e-01  3.37848329e-01\n",
      "   5.69251294e-01 -1.24957601e-01 -1.28197243e+00 -1.24957601e-01\n",
      "   8.00654259e-01 -1.24957601e-01]\n",
      " [-1.34127240e+00 -1.34127240e+00 -1.39813811e+00 -1.28440670e+00\n",
      "  -1.34127240e+00 -1.17067529e+00 -1.34127240e+00 -1.28440670e+00\n",
      "  -1.34127240e+00 -1.28440670e+00 -1.28440670e+00 -1.22754100e+00\n",
      "  -1.34127240e+00 -1.51186952e+00 -1.45500381e+00 -1.28440670e+00\n",
      "  -1.39813811e+00 -1.34127240e+00 -1.17067529e+00 -1.28440670e+00\n",
      "  -1.17067529e+00 -1.28440670e+00 -1.56873522e+00 -1.17067529e+00\n",
      "  -1.05694388e+00 -1.22754100e+00 -1.22754100e+00 -1.28440670e+00\n",
      "  -1.34127240e+00 -1.22754100e+00 -1.22754100e+00 -1.28440670e+00\n",
      "  -1.28440670e+00 -1.34127240e+00 -1.28440670e+00 -1.45500381e+00\n",
      "  -1.39813811e+00 -1.28440670e+00 -1.39813811e+00 -1.28440670e+00\n",
      "  -1.39813811e+00 -1.39813811e+00 -1.39813811e+00 -1.22754100e+00\n",
      "  -1.05694388e+00 -1.34127240e+00 -1.22754100e+00 -1.34127240e+00\n",
      "  -1.28440670e+00 -1.34127240e+00  5.35295827e-01  4.21564419e-01\n",
      "   6.49027235e-01  1.37235899e-01  4.78430123e-01  4.21564419e-01\n",
      "   5.35295827e-01 -2.60824029e-01  4.78430123e-01  8.03701950e-02\n",
      "  -1.47092621e-01  2.50967307e-01  1.37235899e-01  5.35295827e-01\n",
      "  -9.02269170e-02  3.64698715e-01  4.21564419e-01  1.94101603e-01\n",
      "   4.21564419e-01  8.03701950e-02  5.92161531e-01  1.37235899e-01\n",
      "   6.49027235e-01  5.35295827e-01  3.07833011e-01  3.64698715e-01\n",
      "   5.92161531e-01  7.05892939e-01  4.21564419e-01 -1.47092621e-01\n",
      "   2.35044910e-02 -3.33612130e-02  8.03701950e-02  7.62758643e-01\n",
      "   4.21564419e-01  4.21564419e-01  5.35295827e-01  3.64698715e-01\n",
      "   1.94101603e-01  1.37235899e-01  3.64698715e-01  4.78430123e-01\n",
      "   1.37235899e-01 -2.60824029e-01  2.50967307e-01  2.50967307e-01\n",
      "   2.50967307e-01  3.07833011e-01 -4.31421141e-01  1.94101603e-01\n",
      "   1.27454998e+00  7.62758643e-01  1.21768427e+00  1.04708716e+00\n",
      "   1.16081857e+00  1.61574420e+00  4.21564419e-01  1.44514709e+00\n",
      "   1.16081857e+00  1.33141568e+00  7.62758643e-01  8.76490051e-01\n",
      "   9.90221459e-01  7.05892939e-01  7.62758643e-01  8.76490051e-01\n",
      "   9.90221459e-01  1.67260991e+00  1.78634131e+00  7.05892939e-01\n",
      "   1.10395287e+00  6.49027235e-01  1.67260991e+00  6.49027235e-01\n",
      "   1.10395287e+00  1.27454998e+00  5.92161531e-01  6.49027235e-01\n",
      "   1.04708716e+00  1.16081857e+00  1.33141568e+00  1.50201279e+00\n",
      "   1.04708716e+00  7.62758643e-01  1.04708716e+00  1.33141568e+00\n",
      "   1.04708716e+00  9.90221459e-01  5.92161531e-01  9.33355755e-01\n",
      "   1.04708716e+00  7.62758643e-01  7.62758643e-01  1.21768427e+00\n",
      "   1.10395287e+00  8.19624347e-01  7.05892939e-01  8.19624347e-01\n",
      "   9.33355755e-01  7.62758643e-01]\n",
      " [-1.31297673e+00 -1.31297673e+00 -1.31297673e+00 -1.31297673e+00\n",
      "  -1.31297673e+00 -1.05003079e+00 -1.18150376e+00 -1.31297673e+00\n",
      "  -1.31297673e+00 -1.44444970e+00 -1.31297673e+00 -1.31297673e+00\n",
      "  -1.44444970e+00 -1.44444970e+00 -1.31297673e+00 -1.05003079e+00\n",
      "  -1.05003079e+00 -1.18150376e+00 -1.18150376e+00 -1.18150376e+00\n",
      "  -1.31297673e+00 -1.05003079e+00 -1.31297673e+00 -9.18557817e-01\n",
      "  -1.31297673e+00 -1.31297673e+00 -1.05003079e+00 -1.31297673e+00\n",
      "  -1.31297673e+00 -1.31297673e+00 -1.31297673e+00 -1.05003079e+00\n",
      "  -1.44444970e+00 -1.31297673e+00 -1.44444970e+00 -1.31297673e+00\n",
      "  -1.31297673e+00 -1.44444970e+00 -1.31297673e+00 -1.31297673e+00\n",
      "  -1.18150376e+00 -1.18150376e+00 -1.31297673e+00 -7.87084847e-01\n",
      "  -1.05003079e+00 -1.18150376e+00 -1.31297673e+00 -1.31297673e+00\n",
      "  -1.31297673e+00 -1.31297673e+00  2.64698913e-01  3.96171883e-01\n",
      "   3.96171883e-01  1.33225943e-01  3.96171883e-01  1.33225943e-01\n",
      "   5.27644853e-01 -2.61192967e-01  1.33225943e-01  2.64698913e-01\n",
      "  -2.61192967e-01  3.96171883e-01 -2.61192967e-01  2.64698913e-01\n",
      "   1.33225943e-01  2.64698913e-01  3.96171883e-01 -2.61192967e-01\n",
      "   3.96171883e-01 -1.29719997e-01  7.90590793e-01  1.33225943e-01\n",
      "   3.96171883e-01  1.75297293e-03  1.33225943e-01  2.64698913e-01\n",
      "   2.64698913e-01  6.59117823e-01  3.96171883e-01 -2.61192967e-01\n",
      "  -1.29719997e-01 -2.61192967e-01  1.75297293e-03  5.27644853e-01\n",
      "   3.96171883e-01  5.27644853e-01  3.96171883e-01  1.33225943e-01\n",
      "   1.33225943e-01  1.33225943e-01  1.75297293e-03  2.64698913e-01\n",
      "   1.75297293e-03 -2.61192967e-01  1.33225943e-01  1.75297293e-03\n",
      "   1.33225943e-01  1.33225943e-01 -1.29719997e-01  1.33225943e-01\n",
      "   1.71090158e+00  9.22063763e-01  1.18500970e+00  7.90590793e-01\n",
      "   1.31648267e+00  1.18500970e+00  6.59117823e-01  7.90590793e-01\n",
      "   7.90590793e-01  1.71090158e+00  1.05353673e+00  9.22063763e-01\n",
      "   1.18500970e+00  1.05353673e+00  1.57942861e+00  1.44795564e+00\n",
      "   7.90590793e-01  1.31648267e+00  1.44795564e+00  3.96171883e-01\n",
      "   1.44795564e+00  1.05353673e+00  1.05353673e+00  7.90590793e-01\n",
      "   1.18500970e+00  7.90590793e-01  7.90590793e-01  7.90590793e-01\n",
      "   1.18500970e+00  5.27644853e-01  9.22063763e-01  1.05353673e+00\n",
      "   1.31648267e+00  3.96171883e-01  2.64698913e-01  1.44795564e+00\n",
      "   1.57942861e+00  7.90590793e-01  7.90590793e-01  1.18500970e+00\n",
      "   1.57942861e+00  1.44795564e+00  9.22063763e-01  1.44795564e+00\n",
      "   1.71090158e+00  1.44795564e+00  9.22063763e-01  1.05353673e+00\n",
      "   1.44795564e+00  7.90590793e-01]]\n",
      "[53.42728505 30.05643531 12.02085822  4.49542143]\n"
     ]
    }
   ],
   "source": [
    "reduced = pca.fit_transform(iris)\n",
    "iris_reduced = reduced[0]\n",
    "print(pca.variance_explained())"
   ]
  },
  {
   "cell_type": "code",
   "execution_count": 33,
   "id": "165737a0",
   "metadata": {},
   "outputs": [
    {
     "data": {
      "text/plain": "          pc1       pc2           class\n0    2.264542 -0.505704     Iris-setosa\n1    2.086426  0.655405     Iris-setosa\n2     2.36795  0.318477     Iris-setosa\n3    2.304197  0.575368     Iris-setosa\n4    2.388777 -0.674767     Iris-setosa\n..        ...       ...             ...\n145 -1.870522 -0.382822  Iris-virginica\n146 -1.558492  0.905314  Iris-virginica\n147 -1.520845 -0.266795  Iris-virginica\n148 -1.376391 -1.016362  Iris-virginica\n149 -0.959299  0.022284  Iris-virginica\n\n[150 rows x 3 columns]",
      "text/html": "<div>\n<style scoped>\n    .dataframe tbody tr th:only-of-type {\n        vertical-align: middle;\n    }\n\n    .dataframe tbody tr th {\n        vertical-align: top;\n    }\n\n    .dataframe thead th {\n        text-align: right;\n    }\n</style>\n<table border=\"1\" class=\"dataframe\">\n  <thead>\n    <tr style=\"text-align: right;\">\n      <th></th>\n      <th>pc1</th>\n      <th>pc2</th>\n      <th>class</th>\n    </tr>\n  </thead>\n  <tbody>\n    <tr>\n      <th>0</th>\n      <td>2.264542</td>\n      <td>-0.505704</td>\n      <td>Iris-setosa</td>\n    </tr>\n    <tr>\n      <th>1</th>\n      <td>2.086426</td>\n      <td>0.655405</td>\n      <td>Iris-setosa</td>\n    </tr>\n    <tr>\n      <th>2</th>\n      <td>2.36795</td>\n      <td>0.318477</td>\n      <td>Iris-setosa</td>\n    </tr>\n    <tr>\n      <th>3</th>\n      <td>2.304197</td>\n      <td>0.575368</td>\n      <td>Iris-setosa</td>\n    </tr>\n    <tr>\n      <th>4</th>\n      <td>2.388777</td>\n      <td>-0.674767</td>\n      <td>Iris-setosa</td>\n    </tr>\n    <tr>\n      <th>...</th>\n      <td>...</td>\n      <td>...</td>\n      <td>...</td>\n    </tr>\n    <tr>\n      <th>145</th>\n      <td>-1.870522</td>\n      <td>-0.382822</td>\n      <td>Iris-virginica</td>\n    </tr>\n    <tr>\n      <th>146</th>\n      <td>-1.558492</td>\n      <td>0.905314</td>\n      <td>Iris-virginica</td>\n    </tr>\n    <tr>\n      <th>147</th>\n      <td>-1.520845</td>\n      <td>-0.266795</td>\n      <td>Iris-virginica</td>\n    </tr>\n    <tr>\n      <th>148</th>\n      <td>-1.376391</td>\n      <td>-1.016362</td>\n      <td>Iris-virginica</td>\n    </tr>\n    <tr>\n      <th>149</th>\n      <td>-0.959299</td>\n      <td>0.022284</td>\n      <td>Iris-virginica</td>\n    </tr>\n  </tbody>\n</table>\n<p>150 rows × 3 columns</p>\n</div>"
     },
     "execution_count": 33,
     "metadata": {},
     "output_type": "execute_result"
    }
   ],
   "source": [
    "iris_pca = Dataset(iris_reduced,iris.Y,xnames=['pc1','pc2'],yname='class')\n",
    "iris_pca.toDataframe()"
   ]
  },
  {
   "cell_type": "code",
   "execution_count": 34,
   "metadata": {
    "collapsed": false,
    "pycharm": {
     "name": "#%%\n"
    }
   },
   "outputs": [
    {
     "data": {
      "text/plain": "          pc1       pc2           class\n0    2.264542 -0.505704     Iris-setosa\n1    2.086426  0.655405     Iris-setosa\n2     2.36795  0.318477     Iris-setosa\n3    2.304197  0.575368     Iris-setosa\n4    2.388777 -0.674767     Iris-setosa\n..        ...       ...             ...\n145 -1.870522 -0.382822  Iris-virginica\n146 -1.558492  0.905314  Iris-virginica\n147 -1.520845 -0.266795  Iris-virginica\n148 -1.376391 -1.016362  Iris-virginica\n149 -0.959299  0.022284  Iris-virginica\n\n[150 rows x 3 columns]",
      "text/html": "<div>\n<style scoped>\n    .dataframe tbody tr th:only-of-type {\n        vertical-align: middle;\n    }\n\n    .dataframe tbody tr th {\n        vertical-align: top;\n    }\n\n    .dataframe thead th {\n        text-align: right;\n    }\n</style>\n<table border=\"1\" class=\"dataframe\">\n  <thead>\n    <tr style=\"text-align: right;\">\n      <th></th>\n      <th>pc1</th>\n      <th>pc2</th>\n      <th>class</th>\n    </tr>\n  </thead>\n  <tbody>\n    <tr>\n      <th>0</th>\n      <td>2.264542</td>\n      <td>-0.505704</td>\n      <td>Iris-setosa</td>\n    </tr>\n    <tr>\n      <th>1</th>\n      <td>2.086426</td>\n      <td>0.655405</td>\n      <td>Iris-setosa</td>\n    </tr>\n    <tr>\n      <th>2</th>\n      <td>2.36795</td>\n      <td>0.318477</td>\n      <td>Iris-setosa</td>\n    </tr>\n    <tr>\n      <th>3</th>\n      <td>2.304197</td>\n      <td>0.575368</td>\n      <td>Iris-setosa</td>\n    </tr>\n    <tr>\n      <th>4</th>\n      <td>2.388777</td>\n      <td>-0.674767</td>\n      <td>Iris-setosa</td>\n    </tr>\n    <tr>\n      <th>...</th>\n      <td>...</td>\n      <td>...</td>\n      <td>...</td>\n    </tr>\n    <tr>\n      <th>145</th>\n      <td>-1.870522</td>\n      <td>-0.382822</td>\n      <td>Iris-virginica</td>\n    </tr>\n    <tr>\n      <th>146</th>\n      <td>-1.558492</td>\n      <td>0.905314</td>\n      <td>Iris-virginica</td>\n    </tr>\n    <tr>\n      <th>147</th>\n      <td>-1.520845</td>\n      <td>-0.266795</td>\n      <td>Iris-virginica</td>\n    </tr>\n    <tr>\n      <th>148</th>\n      <td>-1.376391</td>\n      <td>-1.016362</td>\n      <td>Iris-virginica</td>\n    </tr>\n    <tr>\n      <th>149</th>\n      <td>-0.959299</td>\n      <td>0.022284</td>\n      <td>Iris-virginica</td>\n    </tr>\n  </tbody>\n</table>\n<p>150 rows × 3 columns</p>\n</div>"
     },
     "execution_count": 34,
     "metadata": {},
     "output_type": "execute_result"
    }
   ],
   "source": [
    "iris_pca = Dataset(iris_reduced,iris.Y,xnames=['pc1','pc2'],yname='class')\n",
    "iris_pca.toDataframe()"
   ]
  },
  {
   "cell_type": "code",
   "execution_count": 35,
   "metadata": {
    "collapsed": false,
    "pycharm": {
     "name": "#%%\n"
    }
   },
   "outputs": [
    {
     "data": {
      "text/plain": "<Figure size 432x288 with 1 Axes>",
      "image/png": "[encoded data removed]"
     },
     "metadata": {
      "needs_background": "light"
     },
     "output_type": "display_data"
    }
   ],
   "source": [
    "plt.scatter(iris_pca.X[:,0], iris_pca.X[:,1])\n",
    "plt.xlabel(\"PC1\")\n",
    "plt.ylabel(\"PC2\")\n",
    "plt.show()\n"
   ]
  }
 ],
 "metadata": {
  "interpreter": {
   "hash": "3caf13703c5b1c02abff9fa597e671e1239d1d668b6a345ae62ddadff9d8fc63"
  },
  "kernelspec": {
   "display_name": "PyCharm (3ºSemestre)",
   "language": "python",
   "name": "python3"
  },
  "language_info": {
   "codemirror_mode": {
    "name": "ipython",
    "version": 3
   },
   "file_extension": ".py",
   "mimetype": "text/x-python",
   "name": "python",
   "nbconvert_exporter": "python",
   "pygments_lexer": "ipython3",
   "version": "3.7.9"
  }
 },
 "nbformat": 4,
 "nbformat_minor": 5
}